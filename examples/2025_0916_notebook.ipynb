{
 "cells": [
  {
   "cell_type": "markdown",
   "id": "5e7c6cee",
   "metadata": {},
   "source": [
    "\n",
    "### **Java 마스터를 위한 핵심 개념 정복 가이드**\n",
    "\n",
    "이 가이드는 여러분이 가장 어려워했던 주제들을 논리적인 순서에 따라 배열했습니다. 기초적인 프로그램 흐름 제어부터 시작하여, 예측 불가능한 오류를 다루는 예외 처리 심화 내용까지 차근차근 따라오시면 Java에 대한 자신감을 얻게 될 것입니다.\n",
    "\n",
    "**학습 목차:**\n",
    "\n",
    "**Part 1: 똑똑하게 프로그램 흐름 제어하기**\n",
    "\n",
    "1. `Enum`과 `switch` 문의 정확한 사용법: 정해진 값들로 분기 처리하기\n",
    "2. 향상된 `switch` 표현식: 더 간결하고 안전한 코드 작성하기\n",
    "\n",
    "**Part 2: 예측 불가능한 오류에 대비하기: 예외 처리**\n",
    "\n",
    "3. `try-catch-finally`: 예외 처리의 기본기 다지기\n",
    "4. `throw new`: 직접 예외를 만들어 던지는 방법\n",
    "5. `FileNotFoundException`: 가장 흔한 파일 경로 문제 해결하기\n",
    "\n",
    "---\n",
    "\n",
    "### **Part 1: 똑똑하게 프로그램 흐름 제어하기**\n",
    "\n",
    "프로그램이 특정 조건에 따라 다르게 동작하도록 만드는 것은 코딩의 핵심입니다. `switch` 문은 이러한 흐름을 제어하는 강력한 도구이며, `Enum`과 함께 사용될 때 그 진가를 발휘합니다.\n",
    "\n",
    "#### **1. `Enum`과 `switch` 문의 정확한 사용법: 정해진 값들로 분기 처리하기**\n",
    "\n",
    "`Enum(열거형)`은 서로 관련 있는 상수들의 집합을 정의하는 특별한 데이터 타입입니다. 요일, 상태, 등급처럼 선택지가 정해져 있는 경우에 사용하면 코드의 가독성과 안정성을 크게 높일 수 있습니다.\n",
    "`Enum`을 `switch` 문과 함께 사용할 때, Java 버전에 따라 문법 규칙에 중요한 차이가 있습니다.\n",
    "\n",
    "\n",
    "#### Java 20 및 이전 버전 (전통적인 방식)\n",
    "과거 Java 버전에서는 `switch` 문의 `case`를 작성할 때, `Enum`의 단순 이름(SUNDAY)만 사용해야 했습니다. `switch(today)` 부분에서 컴파일러가 today 변수가 Day 타입임을 이미 알고 있었기 때문입니다. 이때 `Day.SUNDAY`처럼 정규화된(qualified) 이름을 사용하면 컴파일 오류가 발생했습니다."
   ]
  },
  {
   "cell_type": "code",
   "execution_count": null,
   "id": "018b22be",
   "metadata": {
    "language": "java"
   },
   "outputs": [],
   "source": [
    "public class EnumSwitchError {\n",
    "    // 요일을 나타내는 Enum 정의\n",
    "    public enum Day { SUNDAY, MONDAY, TUESDAY, WEDNESDAY, THURSDAY, FRIDAY, SATURDAY }\n",
    "\n",
    "    public static void main(String[] args) {\n",
    "        Day today = Day.SUNDAY;\n",
    "\n",
    "        // switch 문에서 Enum을 잘못 사용하는 경우\n",
    "        switch (today) {\n",
    "            \n",
    "            // 컴파일 오류: 'switch' 문에서 검사하는 변수(today)가 Day 타입임을\n",
    "            // 컴파일러가 이미 알고 있으므로, case 레이블에 Enum 타입 이름(Day)을\n",
    "            // 포함할 수 없습니다.\n",
    "            case Day.SUNDAY:\n",
    "                 System.out.println(\"일요일은 휴일입니다.\");\n",
    "                 break;\n",
    "            case Day.MONDAY:\n",
    "                 System.out.println(\"월요일은 한 주의 시작입니다.\");\n",
    "                 break;\n",
    "            \n",
    "            default:\n",
    "                System.out.println(\"평일입니다.\");\n",
    "                break;\n",
    "        }\n",
    "    }\n",
    "}"
   ]
  },
  {
   "cell_type": "markdown",
   "id": "c103d79e",
   "metadata": {},
   "source": [
    "**올바른 해결 방법**\n",
    "#### Java 21 이후 (패턴 매칭 도입)\n",
    "Java 21부터 패턴 매칭(Pattern Matching for Switch) 기능이 표준으로 도입되면서 문법이 더 유연해졌습니다. 이제 `case` 레이블에서 `Day.SUNDAY` 와 같이 정규화된 이름을 사용하는 것이 허용됩니다. 이는 `switch가` 단순 값 비교를 넘어 더 복잡한 '패턴'을 검사할 수 있도록 확장되었기 때문입니다.\n",
    "따라서 최신 Java 환경에서는 두 가지 방식 모두 사용할 수 있습니다."
   ]
  },
  {
   "cell_type": "code",
   "execution_count": null,
   "id": "e476fdf7",
   "metadata": {
    "language": "java"
   },
   "outputs": [],
   "source": [
    "public class EnumSwitchSolution {\n",
    "    // 요일을 나타내는 Enum 정의\n",
    "    public enum Day { SUNDAY, MONDAY, TUESDAY, WEDNESDAY, THURSDAY, FRIDAY, SATURDAY }\n",
    "\n",
    "    public static void main(String[] args) {\n",
    "        Day today = Day.MONDAY;\n",
    "        String message;\n",
    "\n",
    "        switch (today) {\n",
    "            case Day.SUNDAY:\n",
    "                message = \"일요일은 휴일입니다.\";\n",
    "                break;\n",
    "            case Day.MONDAY:\n",
    "                message = \"월요일은 한 주의 시작입니다.\";\n",
    "                break;\n",
    "            case Day.SATURDAY:\n",
    "                message = \"토요일은 주말의 시작입니다.\";\n",
    "                break;\n",
    "            default:\n",
    "                message = \"열심히 일하는 평일입니다.\";\n",
    "                break;\n",
    "        }\n",
    "        System.out.println(message);\n",
    "        // 출력:\n",
    "        // 월요일은 한 주의 시작입니다.\n",
    "    }\n",
    "}"
   ]
  },
  {
   "cell_type": "markdown",
   "id": "85e5e6a2",
   "metadata": {},
   "source": [
    "#### **2. 향상된 `switch` 표현식: 더 간결하고 안전한 코드 작성하기**\n",
    "\n",
    "전통적인 `switch` 문은 `break` 키워드를 실수로 빠뜨리면 다음 `case`까지 코드가 실행되는 \"fall-through\" 현상이 발생할 수 있어 버그의 원인이 되곤 했습니다. Java 14부터 도입된 향상된 `switch` 표현식은 이런 문제를 해결하고 코드를 훨씬 더 간결하게 만들어 줍니다.\n",
    "\n",
    "**문제 상황**\n",
    "전통적인 `switch` 문을 사용하면 값을 반환하기 위해 외부에 변수를 선언하고 각 `case`마다 값을 할당해야 했습니다. 또한, 모든 `case` 블록 끝에 `break`를 잊지 않고 넣어주어야 하는 번거로움이 있었습니다."
   ]
  },
  {
   "cell_type": "code",
   "execution_count": null,
   "id": "e3240271",
   "metadata": {
    "language": "java"
   },
   "outputs": [],
   "source": [
    "public class TraditionalSwitch {\n",
    "    public enum Grade { A, B, C, D, F }\n",
    "\n",
    "    public static void main(String[] args) {\n",
    "        Grade studentGrade = Grade.B;\n",
    "        int score;\n",
    "\n",
    "        // 결과를 저장할 외부 변수 'score' 선언\n",
    "        // 각 case 마다 break 문이 필수입니다. 만약 하나라도 빠뜨리면\n",
    "        // 원치 않는 결과가 나올 수 있습니다.\n",
    "        switch (studentGrade) {\n",
    "            case A:\n",
    "                score = 100;\n",
    "                break;\n",
    "            case B:\n",
    "                score = 80;\n",
    "                break;\n",
    "            case C:\n",
    "                score = 60;\n",
    "                break;\n",
    "            default:\n",
    "                score = 0;\n",
    "                break;\n",
    "        }\n",
    "\n",
    "        System.out.println(\"해당 등급의 점수: \" + score);\n",
    "        // 출력:\n",
    "        // 해당 등급의 점수: 80\n",
    "    }\n",
    "}"
   ]
  },
  {
   "cell_type": "markdown",
   "id": "26327d26",
   "metadata": {},
   "source": [
    "**올바른 해결 방법**\n",
    "`switch` 표현식은 `->` (화살표)를 사용하여 코드를 간결하게 만들고 `break`가 필요 없습니다. 또한, `switch` 표현식 자체가 값을 반환하므로, 결과를 바로 변수에 할당할 수 있어 훨씬 깔끔하고 안전합니다."
   ]
  },
  {
   "cell_type": "code",
   "execution_count": null,
   "id": "10f8dacc",
   "metadata": {
    "language": "java"
   },
   "outputs": [],
   "source": [
    "public class ModernSwitchExpression {\n",
    "    public enum Grade { A, B, C, D, F }\n",
    "\n",
    "    public static void main(String[] args) {\n",
    "        Grade studentGrade = Grade.A;\n",
    "\n",
    "        // switch 표현식을 사용하여 값을 직접 변수 score에 할당합니다.\n",
    "        // -> (화살표) 우측의 값이 바로 반환되므로 break가 필요 없습니다.\n",
    "        // 모든 Enum 상수를 처리하거나 default를 포함해야 컴파일 오류가 발생하지 않습니다.\n",
    "        // 이를 'exhaustiveness'라고 하며, 모든 경우를 처리하도록 강제하여 안정성을 높입니다.\n",
    "        int score = switch (studentGrade) {\n",
    "            case A -> 100;\n",
    "            case B -> 80;\n",
    "            case C -> 60;\n",
    "            // 여러 case를 쉼표(,)로 묶어 동일한 값을 반환하게 할 수 있습니다.\n",
    "            case D, F -> 50;\n",
    "        };\n",
    "\n",
    "        System.out.println(\"해당 등급의 점수: \" + score);\n",
    "        // 출력:\n",
    "        // 해당 등급의 점수: 100\n",
    "    }\n",
    "}"
   ]
  },
  {
   "cell_type": "markdown",
   "id": "8bc86059",
   "metadata": {},
   "source": [
    "---\n",
    "\n",
    "### **Part 2: 예측 불가능한 오류에 대비하기: 예외 처리**\n",
    "\n",
    "잘 만든 프로그램은 예상치 못한 상황에서도 비정상적으로 종료되지 않고, 오류를 우아하게 처리하여 안정성을 유지합니다. Java의 예외 처리(Exception Handling) 메커니즘은 이런 안정성을 확보하는 데 필수적인 기능입니다.\n",
    "\n",
    "#### **3. `try-catch-finally`: 예외 처리의 기본기 다지기**\n",
    "\n",
    "`try-catch-finally`는 예외 처리의 가장 기본적인 구조입니다. 예외가 발생할 가능성이 있는 코드를 `try` 블록에 넣고, 예외가 발생했을 때 처리할 코드를 `catch` 블록에 작성하며, 예외 발생 여부와 상관없이 항상 실행되어야 하는 코드를 `finally` 블록에 넣습니다.\n",
    "\n",
    "**문제 상황**\n",
    "사용자로부터 입력받은 문자열을 숫자로 변환할 때, 사용자가 숫자가 아닌 값을 입력하거나 아무것도 입력하지 않으면 `NumberFormatException`이 발생하여 프로그램이 즉시 종료됩니다."
   ]
  },
  {
   "cell_type": "code",
   "execution_count": null,
   "id": "2722cb1d",
   "metadata": {
    "language": "java"
   },
   "outputs": [],
   "source": [
    "public class NumberFormatError {\n",
    "    public static void main(String[] args) {\n",
    "        String userInput = \"\"; // 사용자가 아무것도 입력하지 않은 상황을 가정\n",
    "\n",
    "        // 예외 처리가 없으면, parseInt 메소드는 빈 문자열을 숫자로 바꿀 수 없으므로\n",
    "        // NumberFormatException을 발생시키고 프로그램은 여기서 비정상 종료됩니다.\n",
    "        int number = Integer.parseInt(userInput);\n",
    "\n",
    "        System.out.println(\"입력된 숫자: \" + number);\n",
    "        // 예외 발생: Exception in thread \"main\" java.lang.NumberFormatException: For input string: \"\"\n",
    "    }\n",
    "}"
   ]
  },
  {
   "cell_type": "markdown",
   "id": "7e5f6af4",
   "metadata": {},
   "source": [
    "**올바른 해결 방법**\n",
    "`try-catch` 구문을 사용하여 `NumberFormatException` 발생을 대비하고, `finally` 블록을 통해 사용했던 자원(예: `Scanner`)을 안전하게 닫아줄 수 있습니다. 이렇게 하면 프로그램이 갑자기 멈추는 대신, 사용자에게 친절한 오류 메시지를 보여주고 정상적으로 작업을 마무리할 수 있습니다."
   ]
  },
  {
   "cell_type": "code",
   "execution_count": null,
   "id": "47805a4c",
   "metadata": {
    "language": "java"
   },
   "outputs": [],
   "source": [
    "import java.util.Scanner;\n",
    "\n",
    "public class FinallySolution {\n",
    "    public static void main(String[] args) {\n",
    "        // Scanner는 사용자의 입력을 받기 위한 클래스입니다.\n",
    "        Scanner scanner = new Scanner(\"AAA\");\n",
    "        System.out.println(\"숫자를 입력하세요:\");\n",
    "        String userInput = scanner.nextLine();\n",
    "\n",
    "        try {\n",
    "            // 예외 발생 가능성이 있는 코드를 try 블록 안에 넣습니다.\n",
    "            int number = Integer.parseInt(userInput);\n",
    "            System.out.println(\"변환된 숫자: \" + number);\n",
    "        } catch (NumberFormatException e) {\n",
    "            // try 블록에서 NumberFormatException이 발생하면 이 catch 블록이 실행됩니다.\n",
    "            System.out.println(\"오류: 유효한 숫자가 아닙니다.\");\n",
    "        } finally {\n",
    "            // finally 블록은 예외 발생 여부와 관계없이 항상 실행됩니다.\n",
    "            // 주로 파일 스트림, 데이터베이스 연결, 스캐너 등 사용한 자원을\n",
    "            // 해제하는 코드를 여기에 작성합니다.\n",
    "            System.out.println(\"프로그램이 연산을 시도했으며, 곧 종료됩니다.\");\n",
    "            scanner.close();\n",
    "        }\n",
    "\n",
    "        // 만약 사용자가 'abc'를 입력했다면 출력:\n",
    "        // 오류: 유효한 숫자가 아닙니다.\n",
    "        // 프로그램이 연산을 시도했으며, 곧 종료됩니다.\n",
    "    }\n",
    "}"
   ]
  },
  {
   "cell_type": "markdown",
   "id": "b806e45e",
   "metadata": {},
   "source": [
    "#### **4. `throw new`: 직접 예외를 만들어 던지는 방법**\n",
    "\n",
    "지금까지는 Java 시스템이 발생시키는 예외를 '잡는' 방법을 배웠습니다. 하지만 때로는 우리 프로그램의 비즈니스 로직에 맞지 않는 상황을 '예외'로 규정하고 직접 발생시켜야 할 때가 있습니다. 예를 들어, '나이'는 음수일 수 없다는 규칙을 강제하는 경우입니다.\n",
    "\n",
    "**문제 상황**\n",
    "다른 언어, 특히 C++에서의 경험 때문에 `throw` 뒤에 예외 클래스 이름만 적어서 컴파일 오류를 겪는 경우가 많습니다. Java에서는 예외를 '던지는' 행위가 클래스(설계도)가 아닌, `new` 키워드로 생성된 실제 예외 '객체'(인스턴스)를 던지는 것임을 기억해야 합니다."
   ]
  },
  {
   "cell_type": "code",
   "execution_count": null,
   "id": "da4a972a",
   "metadata": {
    "language": "java"
   },
   "outputs": [],
   "source": [
    "public class ThrowSyntaxError {\n",
    "    public static void main(String[] args) {\n",
    "        try {\n",
    "            int age = -1; // 비즈니스 로직상 유효하지 않은 값\n",
    "            if (age < 0) {\n",
    "                // 컴파일 오류: ArithmeticException은 변수가 아니라 클래스 이름입니다.\n",
    "                // 예외는 객체를 생성해서 던져야 합니다.\n",
    "                throw ArithmeticException; // 잘못된 문법\n",
    "                System.out.println(\"이 코드는 실행되지 않습니다.\");\n",
    "            }\n",
    "        } catch (Exception e) {\n",
    "            System.out.println(\"예외가 발생했습니다: \" + e.getMessage());\n",
    "        }\n",
    "    }\n",
    "}"
   ]
  },
  {
   "cell_type": "markdown",
   "id": "d5d2b35f",
   "metadata": {},
   "source": [
    "**올바른 해결 방법**\n",
    "`throw` 키워드 뒤에 `new`를 사용하여 던지고자 하는 예외 클래스의 인스턴스를 생성해야 합니다. 이때 생성자에 오류 메시지를 담아 전달하면, `catch` 블록에서 `e.getMessage()`를 통해 이 메시지를 확인할 수 있어 디버깅에 큰 도움이 됩니다."
   ]
  },
  {
   "cell_type": "code",
   "execution_count": null,
   "id": "b98f9538",
   "metadata": {
    "language": "java"
   },
   "outputs": [],
   "source": [
    "public class ThrowSyntaxSolution {\n",
    "    // 나이를 검증하고 음수이면 예외를 던지는 메소드\n",
    "    public static void checkAge(int age) {\n",
    "        if (age < 0) {\n",
    "            // 'new' 키워드를 사용하여 IllegalArgumentException 객체를 생성하고 던집니다.\n",
    "            // \"나이는 음수일 수 없습니다.\" 라는 상세 메시지를 생성자에 전달합니다.\n",
    "            throw new IllegalArgumentException(\"나이는 음수일 수 없습니다.\");\n",
    "        }\n",
    "        System.out.println(\"입력된 나이: \" + age);\n",
    "    }\n",
    "\n",
    "    public static void main(String[] args) {\n",
    "        try {\n",
    "            checkAge(-5); // 음수 나이로 메소드 호출\n",
    "        } catch (IllegalArgumentException e) {\n",
    "            System.out.println(\"예외가 발생했습니다: \" + e.getMessage());\n",
    "        }\n",
    "        // 출력:\n",
    "        // 예외가 발생했습니다: 나이는 음수일 수 없습니다.\n",
    "    }\n",
    "}"
   ]
  },
  {
   "cell_type": "markdown",
   "id": "8e23d112",
   "metadata": {},
   "source": [
    "#### **5. `FileNotFoundException`: 가장 흔한 파일 경로 문제 해결하기**\n",
    "\n",
    "파일 입출력 코드를 작성할 때 `FileNotFoundException`은 초보자들이 가장 흔하게 마주치는 예외입니다. 이 문제는 코드 자체의 오류라기보다는, 프로그램이 실행되는 위치(작업 디렉토리)와 파일의 실제 위치가 일치하지 않아서 발생합니다.\n",
    "\n",
    "**문제 상황**\n",
    "Java 소스 파일(`.java`)이 있는 `src` 폴더에 텍스트 파일을 두고 코드를 실행하면 파일을 찾지 못하는 경우가 많습니다. 이는 대부분의 IDE(이클립스, 인텔리제이 등)가 프로그램을 실행할 때의 기준 경로를 소스 폴더가 아닌 '프로젝트 최상위 폴더(루트 디렉토리)'로 설정하기 때문입니다."
   ]
  },
  {
   "cell_type": "code",
   "execution_count": null,
   "id": "bcb97780",
   "metadata": {
    "language": "java"
   },
   "outputs": [],
   "source": [
    "import java.io.File;\n",
    "import java.io.FileNotFoundException;\n",
    "import java.util.Scanner;\n",
    "\n",
    "public class FilePathError {\n",
    "    public static void main(String[] args) {\n",
    "        // 'src' 폴더 안에 있는 클래스 파일과 같은 위치에 'data.txt'를 두면\n",
    "        // 기본 실행 경로인 프로젝트 루트에서는 이 파일을 찾을 수 없습니다.\n",
    "        try {\n",
    "            File file = new File(\"data.txt\"); // 상대 경로는 실행 위치를 기준으로 합니다.\n",
    "            Scanner scanner = new Scanner(file);\n",
    "            System.out.println(\"파일을 성공적으로 찾았습니다.\");\n",
    "            scanner.close();\n",
    "        } catch (FileNotFoundException e) {\n",
    "            System.out.println(\"오류: 파일을 찾을 수 없습니다.\");\n",
    "            // e.printStackTrace(); // 예외의 상세 내용을 출력하여 원인 파악에 도움을 줍니다.\n",
    "        }\n",
    "        // 출력:\n",
    "        // 오류: 파일을 찾을 수 없습니다.\n",
    "    }\n",
    "}"
   ]
  },
  {
   "cell_type": "markdown",
   "id": "62d88bf4",
   "metadata": {},
   "source": [
    "**올바른 해결 방법**\n",
    "가장 간단한 해결책은 파일을 프로젝트의 최상위 폴더(예: `pom.xml`, `.gitignore` 파일이 있는 위치)에 두는 것입니다. 이렇게 하면 Java 코드가 실행될 때의 기본 경로와 파일의 위치가 일치하게 되어, `\"data.txt\"`와 같은 상대 경로만으로도 파일을 쉽게 찾을 수 있습니다."
   ]
  },
  {
   "cell_type": "code",
   "execution_count": null,
   "id": "642fe8e5",
   "metadata": {
    "language": "java"
   },
   "outputs": [],
   "source": [
    "import java.io.File;\n",
    "import java.io.FileNotFoundException;\n",
    "import java.util.Scanner;\n",
    "\n",
    "public class FilePathSolution {\n",
    "    public static void main(String[] args) {\n",
    "        // 해결책: 'data.txt' 파일을 'src' 폴더가 아닌,\n",
    "        // 프로젝트의 최상위(루트) 폴더에 위치시킵니다.\n",
    "        // 그러면 상대 경로 \"data.txt\"만으로 파일을 찾을 수 있습니다.\n",
    "        try {\n",
    "            File file = new File(\"data.txt\");\n",
    "            Scanner scanner = new Scanner(file);\n",
    "            System.out.println(\"파일 내용:\");\n",
    "            while(scanner.hasNextLine()) {\n",
    "                System.out.println(scanner.nextLine());\n",
    "            }\n",
    "            scanner.close();\n",
    "        } catch (FileNotFoundException e) {\n",
    "            System.out.println(\"오류: 프로젝트 루트 디렉토리에 'data.txt' 파일이 있는지 확인하세요.\");\n",
    "        }\n",
    "        // 프로젝트 루트에 \"안녕하세요, 자바!\" 라는 내용의 data.txt가 있을 경우 출력:\n",
    "        // 파일 내용:\n",
    "        // 안녕하세요, 자바!\n",
    "    }\n",
    "}"
   ]
  },
  {
   "cell_type": "markdown",
   "id": "9ef05fa3",
   "metadata": {},
   "source": [
    "---\n",
    "\n",
    "이 가이드를 통해 Java의 핵심 개념들에 대한 이해가 한층 깊어지셨기를 바랍니다. 모든 프로그래밍 학습은 작은 실수와 그것을 해결해나가는 과정의 연속입니다. 꾸준히 연습하고 질문하는 것을 두려워하지 마세요. 여러분은 이미 훌륭한 개발자로 성장하고 있습니다"
   ]
  },
  {
   "cell_type": "markdown",
   "id": "ffeb0d79",
   "metadata": {},
   "source": []
  }
 ],
 "metadata": {
  "kernelspec": {
   "display_name": "Java",
   "language": "java",
   "name": "java"
  },
  "language_info": {
   "file_extension": ".java",
   "name": "java"
  }
 },
 "nbformat": 4,
 "nbformat_minor": 5
}
