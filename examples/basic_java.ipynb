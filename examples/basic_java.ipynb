{
 "cells": [
  {
   "cell_type": "markdown",
   "id": "intro-cell",
   "metadata": {},
   "source": [
    "# 기본 Java 프로그래밍 예제\n",
    "\n",
    "이 노트북은 Java의 기본 문법과 개념들을 다룹니다.\n",
    "\n",
    "## Hello World\n",
    "\n",
    "가장 기본적인 Java 프로그램입니다."
   ]
  },
  {
   "cell_type": "code",
   "execution_count": null,
   "id": "hello-world",
   "metadata": {
    "language": "java"
   },
   "outputs": [],
   "source": [
    "public class HelloWorld {\n",
    "    public static void main(String[] args) {\n",
    "        System.out.println(\"안녕하세요, Java Notebook입니다!\");\n",
    "        System.out.println(\"Hello, Java Notebook!\");\n",
    "    }\n",
    "}"
   ]
  },
  {
   "cell_type": "markdown",
   "id": "datatypes-intro",
   "metadata": {},
   "source": [
    "## 변수와 데이터 타입\n",
    "\n",
    "Java의 기본 데이터 타입들을 살펴보겠습니다."
   ]
  },
  {
   "cell_type": "code",
   "execution_count": null,
   "id": "datatypes",
   "metadata": {
    "language": "java"
   },
   "outputs": [],
   "source": [
    "public class DataTypes {\n",
    "    public static void main(String[] args) {\n",
    "        // 정수형\n",
    "        int age = 25;\n",
    "        long population = 51800000L;\n",
    "        \n",
    "        // 실수형\n",
    "        double height = 175.5;\n",
    "        float weight = 70.2f;\n",
    "        \n",
    "        // 문자형\n",
    "        char grade = 'A';\n",
    "        \n",
    "        // 불린형\n",
    "        boolean isStudent = true;\n",
    "        \n",
    "        // 문자열\n",
    "        String name = \"홍길동\";\n",
    "        \n",
    "        System.out.println(\"이름: \" + name);\n",
    "        System.out.println(\"나이: \" + age + \"세\");\n",
    "        System.out.println(\"키: \" + height + \"cm\");\n",
    "        System.out.println(\"몸무게: \" + weight + \"kg\");\n",
    "        System.out.println(\"학점: \" + grade);\n",
    "        System.out.println(\"학생 여부: \" + isStudent);\n",
    "        System.out.println(\"인구: \" + population + \"명\");\n",
    "    }\n",
    "}"
   ]
  },
  {
   "cell_type": "markdown",
   "id": "operators-intro",
   "metadata": {},
   "source": [
    "## 연산자\n",
    "\n",
    "Java의 다양한 연산자들을 사용해보겠습니다."
   ]
  },
  {
   "cell_type": "code",
   "execution_count": null,
   "id": "operators",
   "metadata": {
    "language": "java"
   },
   "outputs": [],
   "source": [
    "public class Operators {\n",
    "    public static void main(String[] args) {\n",
    "        int a = 10;\n",
    "        int b = 3;\n",
    "        \n",
    "        // 산술 연산자\n",
    "        System.out.println(\"=== 산술 연산자 ===\");\n",
    "        System.out.println(a + \" + \" + b + \" = \" + (a + b));\n",
    "        System.out.println(a + \" - \" + b + \" = \" + (a - b));\n",
    "        System.out.println(a + \" * \" + b + \" = \" + (a * b));\n",
    "        System.out.println(a + \" / \" + b + \" = \" + (a / b));\n",
    "        System.out.println(a + \" % \" + b + \" = \" + (a % b));\n",
    "        \n",
    "        // 비교 연산자\n",
    "        System.out.println(\"\\n=== 비교 연산자 ===\");\n",
    "        System.out.println(a + \" > \" + b + \" = \" + (a > b));\n",
    "        System.out.println(a + \" < \" + b + \" = \" + (a < b));\n",
    "        System.out.println(a + \" == \" + b + \" = \" + (a == b));\n",
    "        System.out.println(a + \" != \" + b + \" = \" + (a != b));\n",
    "        \n",
    "        // 논리 연산자\n",
    "        boolean x = true;\n",
    "        boolean y = false;\n",
    "        System.out.println(\"\\n=== 논리 연산자 ===\");\n",
    "        System.out.println(\"true && false = \" + (x && y));\n",
    "        System.out.println(\"true || false = \" + (x || y));\n",
    "        System.out.println(\"!true = \" + (!x));\n",
    "    }\n",
    "}"
   ]
  },
  {
   "cell_type": "markdown",
   "id": "simple-code-intro",
   "metadata": {},
   "source": [
    "## 간단한 코드 (자동 래핑)\n",
    "\n",
    "main 메소드 없이도 간단한 Java 코드를 실행할 수 있습니다. 시스템이 자동으로 Main 클래스로 감싸서 실행합니다."
   ]
  },
  {
   "cell_type": "code",
   "execution_count": null,
   "id": "simple-code",
   "metadata": {
    "language": "java",
    "java_executable": false
   },
   "outputs": [],
   "source": [
    "// 이런 간단한 코드도 바로 실행됩니다\n",
    "System.out.println(\"Hello from simple code!\");\n",
    "int x = 10;\n",
    "int y = 20;\n",
    "System.out.println(\"합계: \" + (x + y));\n",
    "\n",
    "// 반복문 예제\n",
    "System.out.println(\"\\n구구단 2단:\");\n",
    "for (int i = 1; i <= 9; i++) {\n",
    "    System.out.println(\"2 x \" + i + \" = \" + (2 * i));\n",
    "}"
   ]
  },
  {
   "cell_type": "markdown",
   "id": "control-flow-intro",
   "metadata": {},
   "source": [
    "## 제어문\n",
    "\n",
    "Java의 조건문과 반복문을 살펴보겠습니다."
   ]
  },
  {
   "cell_type": "code",
   "execution_count": null,
   "id": "control-flow",
   "metadata": {
    "language": "java"
   },
   "outputs": [],
   "source": [
    "public class ControlFlow {\n",
    "    public static void main(String[] args) {\n",
    "        // if-else 문\n",
    "        int score = 85;\n",
    "        \n",
    "        if (score >= 90) {\n",
    "            System.out.println(\"등급: A\");\n",
    "        } else if (score >= 80) {\n",
    "            System.out.println(\"등급: B\");\n",
    "        } else if (score >= 70) {\n",
    "            System.out.println(\"등급: C\");\n",
    "        } else {\n",
    "            System.out.println(\"등급: F\");\n",
    "        }\n",
    "        \n",
    "        // switch 문\n",
    "        int dayOfWeek = 3;\n",
    "        String dayName;\n",
    "        \n",
    "        switch (dayOfWeek) {\n",
    "            case 1: dayName = \"월요일\"; break;\n",
    "            case 2: dayName = \"화요일\"; break;\n",
    "            case 3: dayName = \"수요일\"; break;\n",
    "            case 4: dayName = \"목요일\"; break;\n",
    "            case 5: dayName = \"금요일\"; break;\n",
    "            case 6: dayName = \"토요일\"; break;\n",
    "            case 7: dayName = \"일요일\"; break;\n",
    "            default: dayName = \"잘못된 요일\"; break;\n",
    "        }\n",
    "        \n",
    "        System.out.println(\"오늘은 \" + dayName + \"입니다.\");\n",
    "        \n",
    "        // for 반복문\n",
    "        System.out.println(\"\\n1부터 5까지의 숫자:\");\n",
    "        for (int i = 1; i <= 5; i++) {\n",
    "            System.out.print(i + \" \");\n",
    "        }\n",
    "        System.out.println();\n",
    "        \n",
    "        // while 반복문\n",
    "        System.out.println(\"\\n10부터 6까지 역순:\");\n",
    "        int count = 10;\n",
    "        while (count >= 6) {\n",
    "            System.out.print(count + \" \");\n",
    "            count--;\n",
    "        }\n",
    "        System.out.println();\n",
    "    }\n",
    "}"
   ]
  },
  {
   "cell_type": "markdown",
   "id": "conclusion",
   "metadata": {},
   "source": [
    "## 마무리\n",
    "\n",
    "이 노트북에서 Java의 기본 문법들을 살펴보았습니다:\n",
    "\n",
    "1. **Hello World** - 기본 프로그램 구조\n",
    "2. **데이터 타입** - int, double, String 등의 기본 타입\n",
    "3. **연산자** - 산술, 비교, 논리 연산자\n",
    "4. **간단한 코드** - 자동 래핑 기능으로 빠른 테스트\n",
    "5. **제어문** - if-else, switch, for, while 문\n",
    "\n",
    "각 셀을 실행하여 결과를 확인해보세요!"
   ]
  }
 ],
 "metadata": {
  "kernelspec": {
   "display_name": "Java",
   "language": "java",
   "name": "java"
  },
  "language_info": {
   "file_extension": ".java",
   "mimetype": "text/x-java-source",
   "name": "java",
   "version": "11"
  }
 },
 "nbformat": 4,
 "nbformat_minor": 5
}