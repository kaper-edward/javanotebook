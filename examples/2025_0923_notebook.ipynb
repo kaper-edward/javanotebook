{
 "cells": [
  {
   "cell_type": "markdown",
   "id": "c89b7024",
   "metadata": {},
   "source": [
    "물론이죠! 오늘 수업에 참여한 학생들의 피드백을 바탕으로, 모두가 쉽게 이해하고 복습할 수 있도록 친절한 교수님의 마음을 담아 실습 교육 자료를 만들어 드릴게요. 학생들이 가장 헷갈려 했던 부분들을 중심으로 차근차근 설명해 보겠습니다.\n",
    "\n",
    "---\n",
    "\n",
    "# 안녕하세요, 사랑하는 우리 학생 여러분!\n",
    "\n",
    "오늘 수업도 정말 고생 많으셨습니다. 여러분이 남겨주신 소중한 피드백을 하나하나 꼼꼼히 읽어보았어요. 프로그래밍을 처음 배우다 보면 낯선 개념 때문에 어렵게 느껴지는 것이 당연합니다. 괜찮아요! 넘어져도 보고, 부딪혀도 보면서 우리는 더 단단한 개발자로 성장하는 거니까요.\n",
    "\n",
    "여러분이 공통적으로 어려워했던 부분들을 중심으로, 함께 다시 한번 짚어보는 시간을 가지려고 합니다. 아래 자료를 보면서 \"아, 이래서 안 됐구나!\" 하고 무릎을 탁 치는 순간이 분명 있을 거예요. 자, 그럼 함께 차근차근 시작해 볼까요?\n",
    "\n",
    "---\n",
    "\n",
    "## Part 1: 자바의 지도, package와 import\n",
    "\n",
    "가장 많은 학생이 헷갈려 했던 부분이죠. 마치 이사 간 친구 집을 찾아가는데, 옛날 주소로 찾아간 것과 같은 상황이에요. 자바에서는 파일의 실제 폴더 위치(주소)와 코드에 적힌 `package` 선언(주소 표기)이 정확히 일치해야 합니다.\n",
    "\n",
    "### 흔히 발생하는 오류\n",
    "\n",
    "**문제 상황:**\n",
    "`src/game/monster` 폴더에 `Goblin.java` 파일을 만들었지만, 코드에 `package game.monster;` 라고 주소를 적어주지 않았어요. 그래서 `src/game` 폴더에 있는 `Main.java`가 고블린을 어디서 찾아야 할지 모르는 상황입니다.\n",
    "\n",
    "**오류가 발생하는 코드:**"
   ]
  },
  {
   "cell_type": "code",
   "execution_count": null,
   "id": "320702ee",
   "metadata": {
    "javanotebook": {
     "class_name": "Goblin",
     "execution_order": 0,
     "is_main": false,
     "package_name": null,
     "project_group": "0944cbeb-488c-4867-ad5a-a72f6d7c9000"
    },
    "language": "java",
    "vscode": {
     "languageId": "java"
    }
   },
   "outputs": [],
   "source": [
    "// 파일 위치: src/game/monster/Goblin.java\n",
    "\n",
    "// 이런! package 선언을 깜빡했어요.\n",
    "// 이렇게 되면 자바는 이 클래스가 기본(default) 패키지에 있다고 착각합니다.\n",
    "public class Goblin {\n",
    "    public void attack() {\n",
    "        System.out.println(\"고블린이 공격합니다!\");\n",
    "    }\n",
    "}"
   ]
  },
  {
   "cell_type": "code",
   "execution_count": null,
   "id": "bae41a52",
   "metadata": {
    "javanotebook": {
     "class_name": "Main",
     "execution_order": 1,
     "is_main": true,
     "package_name": "game",
     "project_group": "0944cbeb-488c-4867-ad5a-a72f6d7c9000"
    },
    "language": "java",
    "vscode": {
     "languageId": "java"
    }
   },
   "outputs": [],
   "source": [
    "// 파일 위치: src/game/Main.java\n",
    "\n",
    "package game;\n",
    "\n",
    "// 다른 동네(패키지)에 사는 Goblin을 찾으려 하지만,\n",
    "// 어디 사는지 알려주지 않았어요(import 누락).\n",
    "// 그래서 컴파일러는 \"Goblin이라는 타입을 찾을 수 없습니다.\" 라는 오류를 보냅니다.\n",
    "public class Main {\n",
    "    public static void main(String[] args) {\n",
    "        Goblin goblin = new Goblin(); // 오류 발생: Goblin cannot be resolved to a type\n",
    "        goblin.attack();\n",
    "    }\n",
    "}"
   ]
  },
  {
   "cell_type": "markdown",
   "id": "5240eda2",
   "metadata": {},
   "source": [
    "### 올바른 해결 방법\n",
    "\n",
    "**해결책:**\n",
    "모든 파일에 자신의 정확한 '주소'를 `package`로 알려주고, 다른 파일의 클래스를 사용할 때는 `import`를 통해 \"저 친구는 저 주소에 살아!\"라고 명확히 알려주면 됩니다.\n",
    "\n",
    "**완전한 자바 클래스 코드:**"
   ]
  },
  {
   "cell_type": "code",
   "execution_count": null,
   "id": "69541809",
   "metadata": {
    "language": "java",
    "vscode": {
     "languageId": "java"
    }
   },
   "outputs": [],
   "source": [
    "// 파일 위치: src/game/monster/Goblin.java\n",
    "\n",
    "// 1. 파일의 실제 폴더 경로(src/game/monster)와 동일하게 패키지를 선언합니다.\n",
    "//    \"제 주소는 game.monster 입니다!\" 라고 알려주는 것과 같아요.\n",
    "package game.monster;\n",
    "\n",
    "public class Goblin {\n",
    "    public void attack() {\n",
    "        System.out.println(\"고블린이 공격합니다!\");\n",
    "    }\n",
    "}"
   ]
  },
  {
   "cell_type": "code",
   "execution_count": null,
   "id": "069f53f6",
   "metadata": {
    "language": "java",
    "vscode": {
     "languageId": "java"
    }
   },
   "outputs": [],
   "source": [
    "// 파일 위치: src/game/Main.java\n",
    "\n",
    "package game;\n",
    "\n",
    "// 1. 다른 패키지(game.monster)에 있는 Goblin 클래스를 사용하겠다고 선언합니다.\n",
    "//    \"game.monster 동네에 사는 Goblin을 데려와 주세요!\" 라고 요청하는 셈이죠.\n",
    "import game.monster.Goblin;\n",
    "\n",
    "public class Main {\n",
    "    public static void main(String[] args) {\n",
    "        // 2. 이제 자바는 Goblin 클래스가 어디에 있는지 정확히 알고 있으므로\n",
    "        //    성공적으로 객체를 생성할 수 있습니다.\n",
    "        Goblin goblin = new Goblin();\n",
    "        goblin.attack();\n",
    "    }\n",
    "}"
   ]
  },
  {
   "cell_type": "markdown",
   "id": "aca065b4",
   "metadata": {},
   "source": [
    "**실행 결과:**\n",
    "\n",
    "```\n",
    "고블린이 공격합니다!\n",
    "```\n",
    "\n",
    "---\n",
    "\n",
    "## Part 2: 문자열(String)과 친해지기\n",
    "\n",
    "C++을 경험한 학생들이 많이 겪는 혼란이에요. 자바의 `String`은 단순한 문자들의 배열이 아니라, 다양한 기능을 가진 '객체'랍니다. 그래서 배열처럼 `[ ]`를 사용하는 대신, `String` 객체가 제공하는 기능(메서드)을 사용해야 합니다.\n",
    "\n",
    "### 흔히 발생하는 오류\n",
    "\n",
    "**문제 상황:**\n",
    "\"Hello\"라는 문자열에서 첫 글자 'H'를 가져오고 싶어서, C++에서처럼 `greeting[0]`이라고 시도했어요. 하지만 자바 컴파일러는 \"String은 배열이 아닌데 왜 배열처럼 쓰나요?\"라며 오류를 발생시킵니다.\n",
    "\n",
    "**오류가 발생하는 코드:**"
   ]
  },
  {
   "cell_type": "code",
   "execution_count": null,
   "id": "e6f28135",
   "metadata": {
    "language": "java",
    "vscode": {
     "languageId": "java"
    }
   },
   "outputs": [],
   "source": [
    "public class StringTest {\n",
    "    public static void main(String[] args) {\n",
    "        String greeting = \"Hello\";\n",
    "        \n",
    "        // 컴파일 오류! 자바 String은 객체이므로 배열처럼 인덱스로 접근할 수 없어요.\n",
    "        // String 객체에게 \"0번째 문자를 알려줘\" 라고 부탁해야 합니다.\n",
    "        char firstChar = greeting[0]; \n",
    "        \n",
    "        System.out.println(firstChar);\n",
    "    }\n",
    "}"
   ]
  },
  {
   "cell_type": "markdown",
   "id": "84c28c74",
   "metadata": {},
   "source": [
    "### 올바른 해결 방법\n",
    "\n",
    "**해결책:**\n",
    "String 객체가 가지고 있는 편리한 기능, `charAt(index)` 메서드를 사용하면 됩니다. \"character at\"의 줄임말로, \"특정 위치에 있는 문자\"라는 뜻이죠.\n",
    "\n",
    "**완전한 자바 클래스 코드:**"
   ]
  },
  {
   "cell_type": "code",
   "execution_count": null,
   "id": "5e96bd59",
   "metadata": {
    "language": "java",
    "vscode": {
     "languageId": "java"
    }
   },
   "outputs": [],
   "source": [
    "public class StringTest {\n",
    "    public static void main(String[] args) {\n",
    "        String greeting = \"Hello\";\n",
    "        \n",
    "        // 1. greeting 이라는 String 객체에게 charAt() 이라는 기능을 사용하라고 명령합니다.\n",
    "        // 2. 괄호 안에 원하는 문자의 위치(인덱스, 0부터 시작)를 알려줍니다.\n",
    "        //    \"greeting아, 0번째 위치에 있는 문자를 나에게 알려줘!\"\n",
    "        char firstChar = greeting.charAt(0);\n",
    "        \n",
    "        // 3. firstChar 변수에는 'H'가 저장됩니다.\n",
    "        System.out.println(\"첫 번째 문자: \" + firstChar);\n",
    "    }\n",
    "}"
   ]
  },
  {
   "cell_type": "markdown",
   "id": "8a31d00b",
   "metadata": {},
   "source": [
    "**실행 결과:**\n",
    "\n",
    "```\n",
    "첫 번째 문자: H\n",
    "```\n",
    "\n",
    "---\n",
    "\n",
    "## Part 3: 유령을 피하는 방법, NullPointerException\n",
    "\n",
    "`NullPointerException`은 '텅 빈 리모컨의 버튼을 누른' 상황과 같아요. 객체 변수라는 리모컨은 만들었지만, 실제 조작할 TV(객체)와 연결해주지 않은 거죠. `new` 키워드는 바로 이 '연결'을 해주는 중요한 역할을 합니다.\n",
    "\n",
    "### 흔히 발생하는 오류\n",
    "\n",
    "**문제 상황:**\n",
    "`Student` 타입의 변수 `student1`을 선언했지만, `new Student()`로 실제 학생 객체를 만들어주지 않았어요. 이 상태에서 `student1`은 아무것도 가리키지 않는 `null` 상태입니다. 이 '유령' 같은 상태에서 이름을 출력하려고 하니 `NullPointerException`이 발생합니다.\n",
    "\n",
    "**오류가 발생하는 코드:**"
   ]
  },
  {
   "cell_type": "code",
   "execution_count": null,
   "id": "e5bf8816",
   "metadata": {
    "language": "java",
    "vscode": {
     "languageId": "java"
    }
   },
   "outputs": [],
   "source": [
    "class Student {\n",
    "    String name;\n",
    "    \n",
    "    void printName() {\n",
    "        // 이 시점에서 name 필드는 아무 값도 할당되지 않아 null 입니다.\n",
    "        // null에 대고 \"너를 대문자로 바꿔!\"(.toUpperCase()) 라고 명령하니\n",
    "        // NullPointerException이 발생할 수밖에 없어요.\n",
    "        System.out.println(name.toUpperCase());\n",
    "    }\n",
    "}\n",
    "\n",
    "public class Main {\n",
    "    public static void main(String[] args) {\n",
    "        Student student1 = new Student();\n",
    "        // student1 객체는 만들어졌지만, 그 안의 name 필드는 여전히 null 입니다.\n",
    "        student1.printName(); // 오류 발생!\n",
    "    }\n",
    "}"
   ]
  },
  {
   "cell_type": "markdown",
   "id": "9df63458",
   "metadata": {},
   "source": [
    "### 올바른 해결 방법\n",
    "\n",
    "**해결책:**\n",
    "객체를 생성할 때, '생성자(constructor)'를 통해 필요한 값(예: 학생의 이름)을 미리 채워주는 것이 가장 좋은 방법입니다. 이렇게 하면 객체가 만들어지는 순간부터 온전한 상태를 유지할 수 있어요.\n",
    "\n",
    "**완전한 자바 클래스 코드:**"
   ]
  },
  {
   "cell_type": "code",
   "execution_count": null,
   "id": "c0dd9159",
   "metadata": {
    "language": "java",
    "vscode": {
     "languageId": "java"
    }
   },
   "outputs": [],
   "source": [
    "class Student {\n",
    "    String name;\n",
    "\n",
    "    // 1. 이것이 바로 '생성자'입니다. 객체가 new 키워드로 생성될 때 호출돼요.\n",
    "    //    이름(aName)을 받아서, 이 객체의 name 필드에 저장해줍니다.\n",
    "    public Student(String aName) {\n",
    "        System.out.println(\"Student 객체가 '\" + aName + \"' 이름으로 생성됩니다.\");\n",
    "        this.name = aName; // this.name은 이 객체의 name 필드를 의미합니다.\n",
    "    }\n",
    "    \n",
    "    void printName() {\n",
    "        // 이제 name 필드는 \"Alice\" 라는 실제 값을 가지고 있으므로,\n",
    "        // toUpperCase() 메서드를 안전하게 호출할 수 있습니다.\n",
    "        System.out.println(name.toUpperCase());\n",
    "    }\n",
    "}\n",
    "\n",
    "public class Main {\n",
    "    public static void main(String[] args) {\n",
    "        // 2. new Student(\"Alice\")를 호출하는 순간, Student 클래스의 생성자가 실행됩니다.\n",
    "        //    이때 \"Alice\"라는 값이 생성자로 전달되어 student1 객체의 name 필드가 초기화됩니다.\n",
    "        Student student1 = new Student(\"Alice\");\n",
    "        \n",
    "        // 3. 이제 student1은 속이 꽉 찬, 완전한 객체입니다.\n",
    "        student1.printName(); // 정상적으로 실행됩니다.\n",
    "    }\n",
    "}"
   ]
  },
  {
   "cell_type": "markdown",
   "id": "03af1e4d",
   "metadata": {},
   "source": [
    "**실행 결과:**\n",
    "\n",
    "```\n",
    "Student 객체가 'Alice' 이름으로 생성됩니다.\n",
    "ALICE\n",
    "```\n",
    "\n",
    "---\n",
    "\n",
    "## Part 4: 우리들의 작업실, VS Code 프로젝트 만들기\n",
    "\n",
    "여러 개의 자바 파일을 뒤죽박죽 관리하면 나중에 큰 프로젝트를 할 때 정말 힘들어져요. VS Code의 프로젝트 생성 기능은 마치 잘 정리된 '작업실'을 만들어주는 것과 같습니다. 소스 코드는 '설계도 서랍(src)'에, 외부 부품(라이브러리)은 '부품 상자(lib)'에 깔끔하게 정리할 수 있죠.\n",
    "\n",
    "### 문제 상황\n",
    "\n",
    "-   여러 `.java` 파일이 그냥 한 폴더에 섞여 있어요.\n",
    "-   어떤 파일이 메인이고 어떤 파일이 부품인지 구분이 어려워요.\n",
    "-   나중에 다른 사람이 내 코드를 볼 때 구조를 파악하기 힘들어요.\n",
    "-   이건 마치 모든 요리 재료를 한 봉지에 쏟아붓고 요리를 시작하려는 것과 같아요.\n",
    "\n",
    "### 해결 방법 (차근차근 따라 해보세요!)\n",
    "\n",
    "VS Code가 제공하는 마법 같은 기능으로 깔끔한 우리만의 작업실을 만들어 봅시다.\n",
    "\n",
    "```text\n",
    "1. VS Code를 실행하고, 'Command Palette'를 엽니다.\n",
    "   - 단축키: Ctrl+Shift+P (Windows/Linux) 또는 Cmd+Shift+P (Mac)\n",
    "   - 또는 F1 키를 눌러도 됩니다.\n",
    "\n",
    "2. 팔레트가 열리면 'Java: Create Java Project' 라고 입력하고 엔터를 누르세요.\n",
    "\n",
    "3. 어떤 종류의 프로젝트를 만들지 물어볼 거예요. 지금은 빌드 도구 없이 순수한 자바 프로젝트를 만들 것이므로 'No build tools'를 선택합니다.\n",
    "\n",
    "4. 이제 이 프로젝트를 어디에 저장할지 폴더를 선택하라는 창이 뜹니다. 원하는 위치를 선택하세요.\n",
    "\n",
    "5. 마지막으로 프로젝트 이름을 입력하라고 나옵니다. 'MyFirstProject'처럼 멋진 이름을 지어주세요.\n",
    "\n",
    "6. 잠시 후, VS Code가 자동으로 다음과 같은 깔끔한 폴더 구조를 만들어 줍니다.\n",
    "   - 📂 MyFirstProject\n",
    "     - 📂 src  <- 우리의 모든 자바 소스 코드(.java)는 여기에 넣어요!\n",
    "     - 📂 lib  <- 나중에 사용할 외부 라이브러리(.jar)는 여기에!\n",
    "     - (기타 설정 파일들)\n",
    "\n",
    "이제 우리는 체계적으로 코드를 관리할 준비가 되었습니다! src 폴더 안에 패키지 폴더를 만들고 코드를 작성하면 Part 1에서 겪었던 문제도 쉽게 해결할 수 있답니다.\n",
    "```\n",
    "\n",
    "---\n",
    "\n",
    "## Part 5: 우리 집의 규칙, 접근 제어자\n",
    "\n",
    "C++과 자바는 클래스를 설계하는 철학이 조금 달라요. C++이 '구역'을 나눠서 규칙을 정한다면, 자바는 '구성원 하나하나'에게 개별적으로 규칙을 정해줍니다.\n",
    "\n",
    "### C++ 스타일과의 차이점\n",
    "\n",
    "C++에서는 `private:` 이라고 선언하면 그 아래에 있는 모든 멤버들이 `private` 규칙을 따랐죠. 마치 \"이 선 아래로는 모두 개인 공간이야!\"라고 선언하는 것과 같아요."
   ]
  },
  {
   "cell_type": "code",
   "execution_count": null,
   "id": "a7fb7aef",
   "metadata": {
    "language": "cpp",
    "vscode": {
     "languageId": "cpp"
    }
   },
   "outputs": [],
   "source": [
    "// C++ 스타일 (개념 비교용)\n",
    "class MyClass {\n",
    "private:\n",
    "    int number;      // private\n",
    "    string text;    // 이것도 private\n",
    "public:\n",
    "    void someFunction(); // 이것은 public\n",
    "};"
   ]
  },
  {
   "cell_type": "markdown",
   "id": "8ec80c19",
   "metadata": {},
   "source": [
    "### 자바 스타일 (올바른 사용법)\n",
    "\n",
    "자바에서는 모든 멤버 변수와 메서드에 각각 `public`, `private` 등의 접근 제어자를 붙여줘야 합니다. 마치 집 안의 각 방마다 \"안방(private)\", \"거실(public)\", \"가족실(package-private)\"처럼 팻말을 붙여주는 것과 같아요.\n",
    "\n",
    "**완전한 자바 클래스 코드:**"
   ]
  },
  {
   "cell_type": "code",
   "execution_count": null,
   "id": "89cdee34",
   "metadata": {
    "language": "java",
    "vscode": {
     "languageId": "java"
    }
   },
   "outputs": [],
   "source": [
    "package my.app;\n",
    "\n",
    "public class MyClass {\n",
    "    \n",
    "    // private: '내 방'과 같아요. 오직 이 MyClass 안에서만 접근할 수 있습니다.\n",
    "    // 가장 엄격하고 안전한 규칙입니다.\n",
    "    private int number;\n",
    "    private String text;\n",
    "    \n",
    "    // 접근 제어자를 생략한 경우: '가족실' 같아요.\n",
    "    // 같은 패키지(my.app)에 있는 다른 클래스들은 자유롭게 드나들 수 있지만,\n",
    "    // 다른 패키지(다른 동네)에서는 보이지 않습니다.\n",
    "    // 이를 'package-private' 라고 부릅니다.\n",
    "    int packagePrivateVar; \n",
    "\n",
    "    // public: '대문'이나 '거실'과 같습니다.\n",
    "    // 프로젝트 내의 어떤 클래스든, 어디서든 자유롭게 접근하고 사용할 수 있습니다.\n",
    "    public void someFunction() {\n",
    "        System.out.println(\"누구나 사용할 수 있는 public 메서드입니다.\");\n",
    "        // 클래스 내부에서는 private 멤버에 자유롭게 접근할 수 있어요.\n",
    "        this.number = 10;\n",
    "        this.text = \"Hello Java\";\n",
    "    }\n",
    "}"
   ]
  },
  {
   "cell_type": "markdown",
   "id": "9b6c5640",
   "metadata": {},
   "source": [
    "**핵심 정리:**\n",
    "- **`private`**: 나만! (가장 안전)\n",
    "- **(아무것도 안 씀)**: 우리 패키지 식구들만! (`package-private`)\n",
    "- **`public`**: 모두 다! (가장 개방적)\n",
    "\n",
    "---\n",
    "\n",
    "### 마무리하며\n",
    "\n",
    "오늘 우리가 함께 살펴본 5가지 주제는 자바 프로그래밍의 정말 중요한 기초입니다. 오늘 겪었던 오류와 혼란은 여러분이 성장하고 있다는 명확한 증거예요. 이 경험을 발판 삼아 다음 단계로 나아갈 수 있을 겁니다.\n",
    "\n",
    "언제든지 질문이 생기면 주저하지 말고 저를 찾아오세요. 여러분의 성장을 항상 응원하겠습니다!\n",
    "다음 수업 시간에 더 밝은 모습으로 만나요!\n",
    "\n",
    "**여러분의 친절한 CS 교수 드림**\n",
    "```"
   ]
  }
 ],
 "metadata": {
  "kernelspec": {
   "display_name": "Python 3 (교육용)",
   "language": "python",
   "name": "python3"
  },
  "language_info": {
   "codemirror_mode": {
    "name": "ipython",
    "version": 3
   },
   "file_extension": ".py",
   "mimetype": "text/x-python",
   "name": "python",
   "nbconvert_exporter": "python",
   "pygments_lexer": "ipython3",
   "version": "3.8.0"
  }
 },
 "nbformat": 4,
 "nbformat_minor": 5
}
