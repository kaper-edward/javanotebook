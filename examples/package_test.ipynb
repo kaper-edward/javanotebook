{
 "cells": [
  {
   "cell_type": "markdown",
   "metadata": {},
   "source": [
    "# Java Package Support Test (Jupyter Format)\n",
    "\n",
    "This notebook tests the new package support functionality in Jupyter format."
   ]
  },
  {
   "cell_type": "markdown",
   "metadata": {},
   "source": [
    "## Test 1: Calculator Class (Utility Package)\n",
    "\n",
    "This class provides basic calculation functionality and lives in the `com.example.util` package."
   ]
  },
  {
   "cell_type": "code",
   "execution_count": null,
   "metadata": {},
   "outputs": [],
   "source": [
    "package com.example.util;\n",
    "\n",
    "/**\n",
    " * 간단한 계산 기능을 제공하는 클래스입니다.\n",
    " * 외부 패키지에서 사용할 수 있도록 public으로 선언되었습니다.\n",
    " */\n",
    "public class Calculator {\n",
    "    /**\n",
    "     * 두 정수를 더한 결과를 반환합니다.\n",
    "     * @param a 첫 번째 정수\n",
    "     * @param b 두 번째 정수\n",
    "     * @return a와 b의 합\n",
    "     */\n",
    "    public int add(int a, int b) {\n",
    "        return a + b;\n",
    "    }\n",
    "\n",
    "    /**\n",
    "     * 두 정수를 곱한 결과를 반환합니다.\n",
    "     * @param a 첫 번째 정수\n",
    "     * @param b 두 번째 정수\n",
    "     * @return a와 b의 곱\n",
    "     */\n",
    "    public int multiply(int a, int b) {\n",
    "        return a * b;\n",
    "    }\n",
    "}"
   ]
  },
  {
   "cell_type": "markdown",
   "metadata": {},
   "source": [
    "## Test 2: MainApp Class (Main Package)\n",
    "\n",
    "This is the main application that uses the Calculator class from a different package."
   ]
  },
  {
   "cell_type": "code",
   "execution_count": null,
   "metadata": {},
   "outputs": [],
   "source": [
    "package com.example.main;\n",
    "\n",
    "// 다른 패키지에 있는 Calculator 클래스를 import\n",
    "import com.example.util.Calculator;\n",
    "\n",
    "/**\n",
    " * 애플리케이션의 시작점 역할을 하는 메인 클래스입니다.\n",
    " */\n",
    "public class MainApp {\n",
    "    public static void main(String[] args) {\n",
    "        // Calculator 객체 생성 (다른 패키지에서 import됨)\n",
    "        Calculator calc = new Calculator();\n",
    "\n",
    "        // 덧셈 테스트\n",
    "        int sumResult = calc.add(5, 3);\n",
    "        System.out.println(\"5 + 3 = \" + sumResult);\n",
    "\n",
    "        // 곱셈 테스트\n",
    "        int multiplyResult = calc.multiply(4, 7);\n",
    "        System.out.println(\"4 × 7 = \" + multiplyResult);\n",
    "\n",
    "        System.out.println(\"패키지 지원 기능이 정상적으로 작동합니다!\");\n",
    "    }\n",
    "}"
   ]
  },
  {
   "cell_type": "markdown",
   "metadata": {},
   "source": [
    "## Test 3: Legacy Compatibility (No Package)\n",
    "\n",
    "This test ensures that code without packages still works as before."
   ]
  },
  {
   "cell_type": "code",
   "execution_count": null,
   "metadata": {},
   "outputs": [],
   "source": [
    "public class SimpleTest {\n",
    "    public static void main(String[] args) {\n",
    "        System.out.println(\"Hello from legacy code without packages!\");\n",
    "        int result = 10 + 20;\n",
    "        System.out.println(\"10 + 20 = \" + result);\n",
    "    }\n",
    "}"
   ]
  },
  {
   "cell_type": "markdown",
   "metadata": {},
   "source": [
    "## Test 4: Auto-wrapped Code (No Package, No Main)\n",
    "\n",
    "This tests that simple statements are still auto-wrapped correctly."
   ]
  },
  {
   "cell_type": "code",
   "execution_count": null,
   "metadata": {},
   "outputs": [],
   "source": [
    "// 이 코드는 자동으로 Main 클래스와 main 메소드로 감싸집니다\n",
    "String message = \"Auto-wrapped code test\";\n",
    "System.out.println(message);\n",
    "int x = 15;\n",
    "int y = 25;\n",
    "System.out.println(\"Sum: \" + (x + y));"
   ]
  },
  {
   "cell_type": "markdown",
   "metadata": {},
   "source": [
    "## Expected Results\n",
    "\n",
    "When this notebook is executed:\n",
    "\n",
    "1. **Calculator class**: Should compile successfully and be available for import\n",
    "2. **MainApp class**: Should successfully import Calculator and produce output:\n",
    "   ```\n",
    "   5 + 3 = 8\n",
    "   4 × 7 = 28\n",
    "   패키지 지원 기능이 정상적으로 작동합니다!\n",
    "   ```\n",
    "3. **SimpleTest class**: Should work as before (legacy compatibility)\n",
    "4. **Auto-wrapped code**: Should be wrapped in Main class and execute properly\n",
    "\n",
    "This demonstrates that the package support feature works correctly while maintaining backward compatibility."
   ]
  }
 ],
 "metadata": {
  "kernelspec": {
   "display_name": "Java",
   "language": "java",
   "name": "java"
  },
  "language_info": {
   "name": "java"
  }
 },
 "nbformat": 4,
 "nbformat_minor": 2
}